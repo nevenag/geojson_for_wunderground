{
 "cells": [
  {
   "cell_type": "code",
   "execution_count": 154,
   "metadata": {
    "collapsed": true
   },
   "outputs": [],
   "source": [
    "import geojson\n",
    "from geojson import Feature, Point, FeatureCollection\n",
    "import urllib2\n",
    "import json\n",
    "import sys\n",
    "import time\n",
    "import math\n",
    "import datetime\n",
    "import geopy"
   ]
  },
  {
   "cell_type": "code",
   "execution_count": 155,
   "metadata": {
    "collapsed": true
   },
   "outputs": [],
   "source": [
    "def get_api_key():\n",
    "    return \"YOUR-API-KEY\""
   ]
  },
  {
   "cell_type": "code",
   "execution_count": 156,
   "metadata": {
    "collapsed": true
   },
   "outputs": [],
   "source": [
    "weather_station_historic_attributes = ['tempm', 'tempi', 'dewptm', 'dewpti', 'hum', 'wspdm', 'wspdi', 'wgustm', 'wgusti', 'wdird', 'wdire', 'pressurem', 'pressurei', 'windchillm', 'windchilli', 'heatindexm', 'heatindexi']"
   ]
  },
  {
   "cell_type": "code",
   "execution_count": 157,
   "metadata": {
    "collapsed": false
   },
   "outputs": [],
   "source": [
    "def get_url_from_lat_lon(latitude, longitude):\n",
    "    url = 'http://api.wunderground.com/api/'+ get_api_key() + '/geolookup/q/' + str(latitude) + ',' + str(longitude) + '.json'\n",
    "    return url"
   ]
  },
  {
   "cell_type": "code",
   "execution_count": 158,
   "metadata": {
    "collapsed": true
   },
   "outputs": [],
   "source": [
    "def get_neighbors(url):\n",
    "    \"\"\" get the list of nearby airport and pws weather stations \"\"\"\n",
    "    f = urllib2.urlopen(url)\n",
    "    json_string = f.read()\n",
    "    parsed_json = json.loads(json_string)\n",
    "    airports = parsed_json['location']['nearby_weather_stations']['airport']['station']\n",
    "    icaos = map(lambda x: (\"http://api.wunderground.com/api/\" + get_api_key() + \"/conditions/q/\" + x['icao'] + \".json\"), airports)\n",
    "    print icaos\n",
    "    pws = parsed_json['location']['nearby_weather_stations']['pws']['station']\n",
    "    ids = map(lambda x: (\"http://api.wunderground.com/api/\" + get_api_key() + \"/conditions/q/pws:\" + x['id'] + '.json'), pws)\n",
    "    stations = icaos + ids\n",
    "    #print 'stations: '\n",
    "    print stations\n",
    "    return stations"
   ]
  },
  {
   "cell_type": "code",
   "execution_count": 159,
   "metadata": {
    "collapsed": false
   },
   "outputs": [],
   "source": [
    "def get_feature(station_url):\n",
    "    time.sleep(20)\n",
    "    print station_url\n",
    "    f = urllib2.urlopen(station_url)\n",
    "    json_string = f.read()\n",
    "    parsed_json = json.loads(json_string)\n",
    "    lat = float(parsed_json['current_observation']['display_location']['latitude'] )\n",
    "    lon = float(parsed_json['current_observation']['display_location']['longitude'] )\n",
    "    zip = parsed_json['current_observation']['display_location']['zip']\n",
    "    weather = parsed_json['current_observation']['weather']\n",
    "    temperature_string = parsed_json['current_observation']['temperature_string']\n",
    "    icon = parsed_json['current_observation']['icon_url']\n",
    "    point = Point((lat, lon))\n",
    "    prop  = {'weather' : weather, 'temperature_string' : temperature_string, 'icon' : icon}\n",
    "    f = Feature(geometry=point, properties=prop)\n",
    "    print f\n",
    "    return f"
   ]
  },
  {
   "cell_type": "code",
   "execution_count": 160,
   "metadata": {
    "collapsed": false
   },
   "outputs": [],
   "source": [
    "def get_feature_collection(lat, lon):\n",
    "    url = get_url_from_lat_lon(lat, lon)\n",
    "    print url\n",
    "    stations = get_neighbors(url)\n",
    "    print stations\n",
    "    \n",
    "    features = []\n",
    "    for station_url in stations:\n",
    "        # if url in DB load otherwise call url\n",
    "        \n",
    "        f = get_feature(station_url)\n",
    "        features.append(f)\n",
    "        print f\n",
    "    collection = FeatureCollection(features)\n",
    "    print collection\n",
    "    return collection"
   ]
  },
  {
   "cell_type": "code",
   "execution_count": 161,
   "metadata": {
    "collapsed": false
   },
   "outputs": [
    {
     "name": "stdout",
     "output_type": "stream",
     "text": [
      "http://api.wunderground.com/api/452d60ad282f18c9/geolookup/q/34.776,-122.395.json\n",
      "[u'http://api.wunderground.com/api/452d60ad282f18c9/conditions/q/KPRB.json', u'http://api.wunderground.com/api/452d60ad282f18c9/conditions/q/KSBP.json', u'http://api.wunderground.com/api/452d60ad282f18c9/conditions/q/KSMX.json']\n",
      "[u'http://api.wunderground.com/api/452d60ad282f18c9/conditions/q/KPRB.json', u'http://api.wunderground.com/api/452d60ad282f18c9/conditions/q/KSBP.json', u'http://api.wunderground.com/api/452d60ad282f18c9/conditions/q/KSMX.json', u'http://api.wunderground.com/api/452d60ad282f18c9/conditions/q/pws:KCASANSI3.json', u'http://api.wunderground.com/api/452d60ad282f18c9/conditions/q/pws:KCACAMBR5.json', u'http://api.wunderground.com/api/452d60ad282f18c9/conditions/q/pws:MUCRM.json', u'http://api.wunderground.com/api/452d60ad282f18c9/conditions/q/pws:KCACAMBR16.json', u'http://api.wunderground.com/api/452d60ad282f18c9/conditions/q/pws:KCACAMBR21.json', u'http://api.wunderground.com/api/452d60ad282f18c9/conditions/q/pws:KCACAMBR15.json', u'http://api.wunderground.com/api/452d60ad282f18c9/conditions/q/pws:KCACAMBR22.json', u'http://api.wunderground.com/api/452d60ad282f18c9/conditions/q/pws:KCACAMBR18.json', u'http://api.wunderground.com/api/452d60ad282f18c9/conditions/q/pws:KCACAMBR12.json', u'http://api.wunderground.com/api/452d60ad282f18c9/conditions/q/pws:KCACAMBR7.json', u'http://api.wunderground.com/api/452d60ad282f18c9/conditions/q/pws:KCACAMBR19.json', u'http://api.wunderground.com/api/452d60ad282f18c9/conditions/q/pws:KCACAMBR11.json', u'http://api.wunderground.com/api/452d60ad282f18c9/conditions/q/pws:KCACAYUC4.json', u'http://api.wunderground.com/api/452d60ad282f18c9/conditions/q/pws:KCACAYUC3.json', u'http://api.wunderground.com/api/452d60ad282f18c9/conditions/q/pws:KCAMORRO15.json', u'http://api.wunderground.com/api/452d60ad282f18c9/conditions/q/pws:KCALAKEN1.json', u'http://api.wunderground.com/api/452d60ad282f18c9/conditions/q/pws:KCATEMPL14.json', u'http://api.wunderground.com/api/452d60ad282f18c9/conditions/q/pws:KCAPASOR25.json', u'http://api.wunderground.com/api/452d60ad282f18c9/conditions/q/pws:KCAPASOR53.json', u'http://api.wunderground.com/api/452d60ad282f18c9/conditions/q/pws:KCACAMPR3.json', u'http://api.wunderground.com/api/452d60ad282f18c9/conditions/q/pws:KCACAMBR8.json', u'http://api.wunderground.com/api/452d60ad282f18c9/conditions/q/pws:KCACAYUC2.json', u'http://api.wunderground.com/api/452d60ad282f18c9/conditions/q/pws:KCAPASOR19.json', u'http://api.wunderground.com/api/452d60ad282f18c9/conditions/q/pws:KCAPASOR33.json', u'http://api.wunderground.com/api/452d60ad282f18c9/conditions/q/pws:KCABRADL2.json', u'http://api.wunderground.com/api/452d60ad282f18c9/conditions/q/pws:KCAPASOR10.json', u'http://api.wunderground.com/api/452d60ad282f18c9/conditions/q/pws:KCAHERIT2.json', u'http://api.wunderground.com/api/452d60ad282f18c9/conditions/q/pws:KCATEMPL20.json', u'http://api.wunderground.com/api/452d60ad282f18c9/conditions/q/pws:KCABRADL3.json', u'http://api.wunderground.com/api/452d60ad282f18c9/conditions/q/pws:KCAPASOR32.json', u'http://api.wunderground.com/api/452d60ad282f18c9/conditions/q/pws:KCAJOLON2.json', u'http://api.wunderground.com/api/452d60ad282f18c9/conditions/q/pws:KCAPASOR40.json']\n",
      "[u'http://api.wunderground.com/api/452d60ad282f18c9/conditions/q/KPRB.json', u'http://api.wunderground.com/api/452d60ad282f18c9/conditions/q/KSBP.json', u'http://api.wunderground.com/api/452d60ad282f18c9/conditions/q/KSMX.json', u'http://api.wunderground.com/api/452d60ad282f18c9/conditions/q/pws:KCASANSI3.json', u'http://api.wunderground.com/api/452d60ad282f18c9/conditions/q/pws:KCACAMBR5.json', u'http://api.wunderground.com/api/452d60ad282f18c9/conditions/q/pws:MUCRM.json', u'http://api.wunderground.com/api/452d60ad282f18c9/conditions/q/pws:KCACAMBR16.json', u'http://api.wunderground.com/api/452d60ad282f18c9/conditions/q/pws:KCACAMBR21.json', u'http://api.wunderground.com/api/452d60ad282f18c9/conditions/q/pws:KCACAMBR15.json', u'http://api.wunderground.com/api/452d60ad282f18c9/conditions/q/pws:KCACAMBR22.json', u'http://api.wunderground.com/api/452d60ad282f18c9/conditions/q/pws:KCACAMBR18.json', u'http://api.wunderground.com/api/452d60ad282f18c9/conditions/q/pws:KCACAMBR12.json', u'http://api.wunderground.com/api/452d60ad282f18c9/conditions/q/pws:KCACAMBR7.json', u'http://api.wunderground.com/api/452d60ad282f18c9/conditions/q/pws:KCACAMBR19.json', u'http://api.wunderground.com/api/452d60ad282f18c9/conditions/q/pws:KCACAMBR11.json', u'http://api.wunderground.com/api/452d60ad282f18c9/conditions/q/pws:KCACAYUC4.json', u'http://api.wunderground.com/api/452d60ad282f18c9/conditions/q/pws:KCACAYUC3.json', u'http://api.wunderground.com/api/452d60ad282f18c9/conditions/q/pws:KCAMORRO15.json', u'http://api.wunderground.com/api/452d60ad282f18c9/conditions/q/pws:KCALAKEN1.json', u'http://api.wunderground.com/api/452d60ad282f18c9/conditions/q/pws:KCATEMPL14.json', u'http://api.wunderground.com/api/452d60ad282f18c9/conditions/q/pws:KCAPASOR25.json', u'http://api.wunderground.com/api/452d60ad282f18c9/conditions/q/pws:KCAPASOR53.json', u'http://api.wunderground.com/api/452d60ad282f18c9/conditions/q/pws:KCACAMPR3.json', u'http://api.wunderground.com/api/452d60ad282f18c9/conditions/q/pws:KCACAMBR8.json', u'http://api.wunderground.com/api/452d60ad282f18c9/conditions/q/pws:KCACAYUC2.json', u'http://api.wunderground.com/api/452d60ad282f18c9/conditions/q/pws:KCAPASOR19.json', u'http://api.wunderground.com/api/452d60ad282f18c9/conditions/q/pws:KCAPASOR33.json', u'http://api.wunderground.com/api/452d60ad282f18c9/conditions/q/pws:KCABRADL2.json', u'http://api.wunderground.com/api/452d60ad282f18c9/conditions/q/pws:KCAPASOR10.json', u'http://api.wunderground.com/api/452d60ad282f18c9/conditions/q/pws:KCAHERIT2.json', u'http://api.wunderground.com/api/452d60ad282f18c9/conditions/q/pws:KCATEMPL20.json', u'http://api.wunderground.com/api/452d60ad282f18c9/conditions/q/pws:KCABRADL3.json', u'http://api.wunderground.com/api/452d60ad282f18c9/conditions/q/pws:KCAPASOR32.json', u'http://api.wunderground.com/api/452d60ad282f18c9/conditions/q/pws:KCAJOLON2.json', u'http://api.wunderground.com/api/452d60ad282f18c9/conditions/q/pws:KCAPASOR40.json']\n",
      "http://api.wunderground.com/api/452d60ad282f18c9/conditions/q/KPRB.json\n",
      "{\"geometry\": {\"coordinates\": [35.67277908, -120.6269455], \"type\": \"Point\"}, \"properties\": {\"icon\": \"clear\", \"temperature_string\": \"43 F (6 C)\", \"weather\": \"Clear\"}, \"type\": \"Feature\"}\n",
      "{\"geometry\": {\"coordinates\": [35.67277908, -120.6269455], \"type\": \"Point\"}, \"properties\": {\"icon\": \"clear\", \"temperature_string\": \"43 F (6 C)\", \"weather\": \"Clear\"}, \"type\": \"Feature\"}\n",
      "http://api.wunderground.com/api/452d60ad282f18c9/conditions/q/KSBP.json\n",
      "{\"geometry\": {\"coordinates\": [35.23694611, -120.64221954], \"type\": \"Point\"}, \"properties\": {\"icon\": \"clear\", \"temperature_string\": \"51 F (11 C)\", \"weather\": \"Clear\"}, \"type\": \"Feature\"}\n",
      "{\"geometry\": {\"coordinates\": [35.23694611, -120.64221954], \"type\": \"Point\"}, \"properties\": {\"icon\": \"clear\", \"temperature_string\": \"51 F (11 C)\", \"weather\": \"Clear\"}, \"type\": \"Feature\"}\n",
      "http://api.wunderground.com/api/452d60ad282f18c9/conditions/q/KSMX.json\n",
      "{\"geometry\": {\"coordinates\": [34.89916611, -120.45749664], \"type\": \"Point\"}, \"properties\": {\"icon\": \"partlycloudy\", \"temperature_string\": \"50 F (10 C)\", \"weather\": \"Partly Cloudy\"}, \"type\": \"Feature\"}\n",
      "{\"geometry\": {\"coordinates\": [34.89916611, -120.45749664], \"type\": \"Point\"}, \"properties\": {\"icon\": \"partlycloudy\", \"temperature_string\": \"50 F (10 C)\", \"weather\": \"Partly Cloudy\"}, \"type\": \"Feature\"}\n",
      "http://api.wunderground.com/api/452d60ad282f18c9/conditions/q/pws:KCASANSI3.json\n",
      "{\"geometry\": {\"coordinates\": [35.665058, -121.284637], \"type\": \"Point\"}, \"properties\": {\"icon\": \"partlycloudy\", \"temperature_string\": \"49.3 F (9.6 C)\", \"weather\": \"Partly Cloudy\"}, \"type\": \"Feature\"}\n",
      "{\"geometry\": {\"coordinates\": [35.665058, -121.284637], \"type\": \"Point\"}, \"properties\": {\"icon\": \"partlycloudy\", \"temperature_string\": \"49.3 F (9.6 C)\", \"weather\": \"Partly Cloudy\"}, \"type\": \"Feature\"}\n",
      "http://api.wunderground.com/api/452d60ad282f18c9/conditions/q/pws:KCACAMBR5.json\n",
      "{\"geometry\": {\"coordinates\": [35.546295, -121.095436], \"type\": \"Point\"}, \"properties\": {\"icon\": \"partlycloudy\", \"temperature_string\": \"46.6 F (8.1 C)\", \"weather\": \"Partly Cloudy\"}, \"type\": \"Feature\"}\n",
      "{\"geometry\": {\"coordinates\": [35.546295, -121.095436], \"type\": \"Point\"}, \"properties\": {\"icon\": \"partlycloudy\", \"temperature_string\": \"46.6 F (8.1 C)\", \"weather\": \"Partly Cloudy\"}, \"type\": \"Feature\"}\n",
      "http://api.wunderground.com/api/452d60ad282f18c9/conditions/q/pws:MUCRM.json\n",
      "{\"geometry\": {\"coordinates\": [35.534168, -121.083328], \"type\": \"Point\"}, \"properties\": {\"icon\": \"partlycloudy\", \"temperature_string\": \"50 F (10.0 C)\", \"weather\": \"Partly Cloudy\"}, \"type\": \"Feature\"}\n",
      "{\"geometry\": {\"coordinates\": [35.534168, -121.083328], \"type\": \"Point\"}, \"properties\": {\"icon\": \"partlycloudy\", \"temperature_string\": \"50 F (10.0 C)\", \"weather\": \"Partly Cloudy\"}, \"type\": \"Feature\"}\n",
      "http://api.wunderground.com/api/452d60ad282f18c9/conditions/q/pws:KCACAMBR16.json\n",
      "{\"geometry\": {\"coordinates\": [35.56414, -121.103088], \"type\": \"Point\"}, \"properties\": {\"icon\": \"partlycloudy\", \"temperature_string\": \"47.1 F (8.4 C)\", \"weather\": \"Partly Cloudy\"}, \"type\": \"Feature\"}\n",
      "{\"geometry\": {\"coordinates\": [35.56414, -121.103088], \"type\": \"Point\"}, \"properties\": {\"icon\": \"partlycloudy\", \"temperature_string\": \"47.1 F (8.4 C)\", \"weather\": \"Partly Cloudy\"}, \"type\": \"Feature\"}\n",
      "http://api.wunderground.com/api/452d60ad282f18c9/conditions/q/pws:KCACAMBR21.json\n",
      "{\"geometry\": {\"coordinates\": [35.550537, -121.089622], \"type\": \"Point\"}, \"properties\": {\"icon\": \"partlycloudy\", \"temperature_string\": \"48.0 F (8.9 C)\", \"weather\": \"Partly Cloudy\"}, \"type\": \"Feature\"}\n",
      "{\"geometry\": {\"coordinates\": [35.550537, -121.089622], \"type\": \"Point\"}, \"properties\": {\"icon\": \"partlycloudy\", \"temperature_string\": \"48.0 F (8.9 C)\", \"weather\": \"Partly Cloudy\"}, \"type\": \"Feature\"}\n",
      "http://api.wunderground.com/api/452d60ad282f18c9/conditions/q/pws:KCACAMBR15.json\n",
      "{\"geometry\": {\"coordinates\": [35.545216, -121.083038], \"type\": \"Point\"}, \"properties\": {\"icon\": \"partlycloudy\", \"temperature_string\": \"47.1 F (8.4 C)\", \"weather\": \"Partly Cloudy\"}, \"type\": \"Feature\"}\n",
      "{\"geometry\": {\"coordinates\": [35.545216, -121.083038], \"type\": \"Point\"}, \"properties\": {\"icon\": \"partlycloudy\", \"temperature_string\": \"47.1 F (8.4 C)\", \"weather\": \"Partly Cloudy\"}, \"type\": \"Feature\"}\n",
      "http://api.wunderground.com/api/452d60ad282f18c9/conditions/q/pws:KCACAMBR22.json\n",
      "{\"geometry\": {\"coordinates\": [35.550381, -121.084862], \"type\": \"Point\"}, \"properties\": {\"icon\": \"partlycloudy\", \"temperature_string\": \"45.7 F (7.6 C)\", \"weather\": \"Partly Cloudy\"}, \"type\": \"Feature\"}\n",
      "{\"geometry\": {\"coordinates\": [35.550381, -121.084862], \"type\": \"Point\"}, \"properties\": {\"icon\": \"partlycloudy\", \"temperature_string\": \"45.7 F (7.6 C)\", \"weather\": \"Partly Cloudy\"}, \"type\": \"Feature\"}\n",
      "http://api.wunderground.com/api/452d60ad282f18c9/conditions/q/pws:KCACAMBR18.json\n",
      "{\"geometry\": {\"coordinates\": [35.546871, -121.079254], \"type\": \"Point\"}, \"properties\": {\"icon\": \"partlycloudy\", \"temperature_string\": \"48.6 F (9.2 C)\", \"weather\": \"Partly Cloudy\"}, \"type\": \"Feature\"}\n",
      "{\"geometry\": {\"coordinates\": [35.546871, -121.079254], \"type\": \"Point\"}, \"properties\": {\"icon\": \"partlycloudy\", \"temperature_string\": \"48.6 F (9.2 C)\", \"weather\": \"Partly Cloudy\"}, \"type\": \"Feature\"}\n",
      "http://api.wunderground.com/api/452d60ad282f18c9/conditions/q/pws:KCACAMBR12.json\n",
      "{\"geometry\": {\"coordinates\": [35.525627, -121.054932], \"type\": \"Point\"}, \"properties\": {\"icon\": \"partlycloudy\", \"temperature_string\": \"48.9 F (9.4 C)\", \"weather\": \"Partly Cloudy\"}, \"type\": \"Feature\"}\n",
      "{\"geometry\": {\"coordinates\": [35.525627, -121.054932], \"type\": \"Point\"}, \"properties\": {\"icon\": \"partlycloudy\", \"temperature_string\": \"48.9 F (9.4 C)\", \"weather\": \"Partly Cloudy\"}, \"type\": \"Feature\"}\n",
      "http://api.wunderground.com/api/452d60ad282f18c9/conditions/q/pws:KCACAMBR7.json\n",
      "{\"geometry\": {\"coordinates\": [35.556999, -121.0811], \"type\": \"Point\"}, \"properties\": {\"icon\": \"partlycloudy\", \"temperature_string\": \"51.4 F (10.8 C)\", \"weather\": \"Partly Cloudy\"}, \"type\": \"Feature\"}\n",
      "{\"geometry\": {\"coordinates\": [35.556999, -121.0811], \"type\": \"Point\"}, \"properties\": {\"icon\": \"partlycloudy\", \"temperature_string\": \"51.4 F (10.8 C)\", \"weather\": \"Partly Cloudy\"}, \"type\": \"Feature\"}\n",
      "http://api.wunderground.com/api/452d60ad282f18c9/conditions/q/pws:KCACAMBR19.json\n",
      "{\"geometry\": {\"coordinates\": [35.553211, -121.076469], \"type\": \"Point\"}, \"properties\": {\"icon\": \"partlycloudy\", \"temperature_string\": \"50.5 F (10.3 C)\", \"weather\": \"Partly Cloudy\"}, \"type\": \"Feature\"}\n",
      "{\"geometry\": {\"coordinates\": [35.553211, -121.076469], \"type\": \"Point\"}, \"properties\": {\"icon\": \"partlycloudy\", \"temperature_string\": \"50.5 F (10.3 C)\", \"weather\": \"Partly Cloudy\"}, \"type\": \"Feature\"}\n",
      "http://api.wunderground.com/api/452d60ad282f18c9/conditions/q/pws:KCACAMBR11.json\n",
      "{\"geometry\": {\"coordinates\": [35.530384, -121.052681], \"type\": \"Point\"}, \"properties\": {\"icon\": \"partlycloudy\", \"temperature_string\": \"47.9 F (8.8 C)\", \"weather\": \"Partly Cloudy\"}, \"type\": \"Feature\"}\n",
      "{\"geometry\": {\"coordinates\": [35.530384, -121.052681], \"type\": \"Point\"}, \"properties\": {\"icon\": \"partlycloudy\", \"temperature_string\": \"47.9 F (8.8 C)\", \"weather\": \"Partly Cloudy\"}, \"type\": \"Feature\"}\n",
      "http://api.wunderground.com/api/452d60ad282f18c9/conditions/q/pws:KCACAYUC4.json\n",
      "{\"geometry\": {\"coordinates\": [35.45145, -120.903656], \"type\": \"Point\"}, \"properties\": {\"icon\": \"clear\", \"temperature_string\": \"49.3 F (9.6 C)\", \"weather\": \"Clear\"}, \"type\": \"Feature\"}\n",
      "{\"geometry\": {\"coordinates\": [35.45145, -120.903656], \"type\": \"Point\"}, \"properties\": {\"icon\": \"clear\", \"temperature_string\": \"49.3 F (9.6 C)\", \"weather\": \"Clear\"}, \"type\": \"Feature\"}\n",
      "http://api.wunderground.com/api/452d60ad282f18c9/conditions/q/pws:KCACAYUC3.json\n",
      "{\"geometry\": {\"coordinates\": [35.448849, -120.898682], \"type\": \"Point\"}, \"properties\": {\"icon\": \"partlycloudy\", \"temperature_string\": \"50.2 F (10.1 C)\", \"weather\": \"Partly Cloudy\"}, \"type\": \"Feature\"}\n",
      "{\"geometry\": {\"coordinates\": [35.448849, -120.898682], \"type\": \"Point\"}, \"properties\": {\"icon\": \"partlycloudy\", \"temperature_string\": \"50.2 F (10.1 C)\", \"weather\": \"Partly Cloudy\"}, \"type\": \"Feature\"}\n",
      "http://api.wunderground.com/api/452d60ad282f18c9/conditions/q/pws:KCAMORRO15.json\n",
      "{\"geometry\": {\"coordinates\": [35.40461, -120.865746], \"type\": \"Point\"}, \"properties\": {\"icon\": \"clear\", \"temperature_string\": \"51.1 F (10.6 C)\", \"weather\": \"Clear\"}, \"type\": \"Feature\"}\n",
      "{\"geometry\": {\"coordinates\": [35.40461, -120.865746], \"type\": \"Point\"}, \"properties\": {\"icon\": \"clear\", \"temperature_string\": \"51.1 F (10.6 C)\", \"weather\": \"Clear\"}, \"type\": \"Feature\"}\n",
      "http://api.wunderground.com/api/452d60ad282f18c9/conditions/q/pws:KCALAKEN1.json\n",
      "{\"geometry\": {\"coordinates\": [35.749298, -121.016899], \"type\": \"Point\"}, \"properties\": {\"icon\": \"partlycloudy\", \"temperature_string\": \"43.3 F (6.3 C)\", \"weather\": \"Partly Cloudy\"}, \"type\": \"Feature\"}\n",
      "{\"geometry\": {\"coordinates\": [35.749298, -121.016899], \"type\": \"Point\"}, \"properties\": {\"icon\": \"partlycloudy\", \"temperature_string\": \"43.3 F (6.3 C)\", \"weather\": \"Partly Cloudy\"}, \"type\": \"Feature\"}\n",
      "http://api.wunderground.com/api/452d60ad282f18c9/conditions/q/pws:KCATEMPL14.json\n",
      "{\"geometry\": {\"coordinates\": [35.557457, -120.773987], \"type\": \"Point\"}, \"properties\": {\"icon\": \"clear\", \"temperature_string\": \"40.4 F (4.7 C)\", \"weather\": \"Clear\"}, \"type\": \"Feature\"}\n",
      "{\"geometry\": {\"coordinates\": [35.557457, -120.773987], \"type\": \"Point\"}, \"properties\": {\"icon\": \"clear\", \"temperature_string\": \"40.4 F (4.7 C)\", \"weather\": \"Clear\"}, \"type\": \"Feature\"}\n",
      "http://api.wunderground.com/api/452d60ad282f18c9/conditions/q/pws:KCAPASOR25.json\n",
      "{\"geometry\": {\"coordinates\": [35.72374, -120.870773], \"type\": \"Point\"}, \"properties\": {\"icon\": \"partlycloudy\", \"temperature_string\": \"40.3 F (4.6 C)\", \"weather\": \"Partly Cloudy\"}, \"type\": \"Feature\"}\n",
      "{\"geometry\": {\"coordinates\": [35.72374, -120.870773], \"type\": \"Point\"}, \"properties\": {\"icon\": \"partlycloudy\", \"temperature_string\": \"40.3 F (4.6 C)\", \"weather\": \"Partly Cloudy\"}, \"type\": \"Feature\"}\n",
      "http://api.wunderground.com/api/452d60ad282f18c9/conditions/q/pws:KCAPASOR53.json\n",
      "{\"geometry\": {\"coordinates\": [35.68306, -120.757607], \"type\": \"Point\"}, \"properties\": {\"icon\": \"clear\", \"temperature_string\": \"42.4 F (5.8 C)\", \"weather\": \"Clear\"}, \"type\": \"Feature\"}\n",
      "{\"geometry\": {\"coordinates\": [35.68306, -120.757607], \"type\": \"Point\"}, \"properties\": {\"icon\": \"clear\", \"temperature_string\": \"42.4 F (5.8 C)\", \"weather\": \"Clear\"}, \"type\": \"Feature\"}\n",
      "http://api.wunderground.com/api/452d60ad282f18c9/conditions/q/pws:KCACAMPR3.json\n",
      "{\"geometry\": {\"coordinates\": [35.716072, -120.763817], \"type\": \"Point\"}, \"properties\": {\"icon\": \"partlycloudy\", \"temperature_string\": \"40.2 F (4.6 C)\", \"weather\": \"Partly Cloudy\"}, \"type\": \"Feature\"}\n",
      "{\"geometry\": {\"coordinates\": [35.716072, -120.763817], \"type\": \"Point\"}, \"properties\": {\"icon\": \"partlycloudy\", \"temperature_string\": \"40.2 F (4.6 C)\", \"weather\": \"Partly Cloudy\"}, \"type\": \"Feature\"}\n",
      "http://api.wunderground.com/api/452d60ad282f18c9/conditions/q/pws:KCACAMBR8.json\n",
      "{\"geometry\": {\"coordinates\": [35.645832, -121.080078], \"type\": \"Point\"}, \"properties\": {\"icon\": \"partlycloudy\", \"temperature_string\": \"41.9 F (5.5 C)\", \"weather\": \"Partly Cloudy\"}, \"type\": \"Feature\"}\n",
      "{\"geometry\": {\"coordinates\": [35.645832, -121.080078], \"type\": \"Point\"}, \"properties\": {\"icon\": \"partlycloudy\", \"temperature_string\": \"41.9 F (5.5 C)\", \"weather\": \"Partly Cloudy\"}, \"type\": \"Feature\"}\n",
      "http://api.wunderground.com/api/452d60ad282f18c9/conditions/q/pws:KCACAYUC2.json\n",
      "{\"geometry\": {\"coordinates\": [35.467915, -120.811394], \"type\": \"Point\"}, \"properties\": {\"icon\": \"partlycloudy\", \"temperature_string\": \"41.5 F (5.3 C)\", \"weather\": \"Partly Cloudy\"}, \"type\": \"Feature\"}\n",
      "{\"geometry\": {\"coordinates\": [35.467915, -120.811394], \"type\": \"Point\"}, \"properties\": {\"icon\": \"partlycloudy\", \"temperature_string\": \"41.5 F (5.3 C)\", \"weather\": \"Partly Cloudy\"}, \"type\": \"Feature\"}\n",
      "http://api.wunderground.com/api/452d60ad282f18c9/conditions/q/pws:KCAPASOR19.json\n",
      "{\"geometry\": {\"coordinates\": [35.591969, -120.81382], \"type\": \"Point\"}, \"properties\": {\"icon\": \"partlycloudy\", \"temperature_string\": \"41.2 F (5.1 C)\", \"weather\": \"Partly Cloudy\"}, \"type\": \"Feature\"}\n",
      "{\"geometry\": {\"coordinates\": [35.591969, -120.81382], \"type\": \"Point\"}, \"properties\": {\"icon\": \"partlycloudy\", \"temperature_string\": \"41.2 F (5.1 C)\", \"weather\": \"Partly Cloudy\"}, \"type\": \"Feature\"}\n",
      "http://api.wunderground.com/api/452d60ad282f18c9/conditions/q/pws:KCAPASOR33.json\n",
      "{\"geometry\": {\"coordinates\": [35.605118, -120.838394], \"type\": \"Point\"}, \"properties\": {\"icon\": \"partlycloudy\", \"temperature_string\": \"40.3 F (4.6 C)\", \"weather\": \"Scattered Clouds\"}, \"type\": \"Feature\"}\n",
      "{\"geometry\": {\"coordinates\": [35.605118, -120.838394], \"type\": \"Point\"}, \"properties\": {\"icon\": \"partlycloudy\", \"temperature_string\": \"40.3 F (4.6 C)\", \"weather\": \"Scattered Clouds\"}, \"type\": \"Feature\"}\n",
      "http://api.wunderground.com/api/452d60ad282f18c9/conditions/q/pws:KCABRADL2.json\n",
      "{\"geometry\": {\"coordinates\": [35.791977, -120.972237], \"type\": \"Point\"}, \"properties\": {\"icon\": \"partlycloudy\", \"temperature_string\": \"38.8 F (3.8 C)\", \"weather\": \"Partly Cloudy\"}, \"type\": \"Feature\"}\n",
      "{\"geometry\": {\"coordinates\": [35.791977, -120.972237], \"type\": \"Point\"}, \"properties\": {\"icon\": \"partlycloudy\", \"temperature_string\": \"38.8 F (3.8 C)\", \"weather\": \"Partly Cloudy\"}, \"type\": \"Feature\"}\n",
      "http://api.wunderground.com/api/452d60ad282f18c9/conditions/q/pws:KCAPASOR10.json\n",
      "{\"geometry\": {\"coordinates\": [35.588886, -120.773079], \"type\": \"Point\"}, \"properties\": {\"icon\": \"partlycloudy\", \"temperature_string\": \"42.5 F (5.8 C)\", \"weather\": \"Partly Cloudy\"}, \"type\": \"Feature\"}\n",
      "{\"geometry\": {\"coordinates\": [35.588886, -120.773079], \"type\": \"Point\"}, \"properties\": {\"icon\": \"partlycloudy\", \"temperature_string\": \"42.5 F (5.8 C)\", \"weather\": \"Partly Cloudy\"}, \"type\": \"Feature\"}\n",
      "http://api.wunderground.com/api/452d60ad282f18c9/conditions/q/pws:KCAHERIT2.json\n",
      "{\"geometry\": {\"coordinates\": [35.744194, -120.871887], \"type\": \"Point\"}, \"properties\": {\"icon\": \"partlycloudy\", \"temperature_string\": \"42.2 F (5.7 C)\", \"weather\": \"Partly Cloudy\"}, \"type\": \"Feature\"}\n",
      "{\"geometry\": {\"coordinates\": [35.744194, -120.871887], \"type\": \"Point\"}, \"properties\": {\"icon\": \"partlycloudy\", \"temperature_string\": \"42.2 F (5.7 C)\", \"weather\": \"Partly Cloudy\"}, \"type\": \"Feature\"}\n",
      "http://api.wunderground.com/api/452d60ad282f18c9/conditions/q/pws:KCATEMPL20.json\n",
      "{\"geometry\": {\"coordinates\": [35.534866, -120.803635], \"type\": \"Point\"}, \"properties\": {\"icon\": \"partlycloudy\", \"temperature_string\": \"41.2 F (5.1 C)\", \"weather\": \"Scattered Clouds\"}, \"type\": \"Feature\"}\n",
      "{\"geometry\": {\"coordinates\": [35.534866, -120.803635], \"type\": \"Point\"}, \"properties\": {\"icon\": \"partlycloudy\", \"temperature_string\": \"41.2 F (5.1 C)\", \"weather\": \"Scattered Clouds\"}, \"type\": \"Feature\"}\n",
      "http://api.wunderground.com/api/452d60ad282f18c9/conditions/q/pws:KCABRADL3.json\n",
      "{\"geometry\": {\"coordinates\": [35.797501, -120.907692], \"type\": \"Point\"}, \"properties\": {\"icon\": \"partlycloudy\", \"temperature_string\": \"42.3 F (5.7 C)\", \"weather\": \"Partly Cloudy\"}, \"type\": \"Feature\"}\n",
      "{\"geometry\": {\"coordinates\": [35.797501, -120.907692], \"type\": \"Point\"}, \"properties\": {\"icon\": \"partlycloudy\", \"temperature_string\": \"42.3 F (5.7 C)\", \"weather\": \"Partly Cloudy\"}, \"type\": \"Feature\"}\n",
      "http://api.wunderground.com/api/452d60ad282f18c9/conditions/q/pws:KCAPASOR32.json\n",
      "{\"geometry\": {\"coordinates\": [35.584446, -120.778137], \"type\": \"Point\"}, \"properties\": {\"icon\": \"partlycloudy\", \"temperature_string\": \"41.7 F (5.4 C)\", \"weather\": \"Partly Cloudy\"}, \"type\": \"Feature\"}\n",
      "{\"geometry\": {\"coordinates\": [35.584446, -120.778137], \"type\": \"Point\"}, \"properties\": {\"icon\": \"partlycloudy\", \"temperature_string\": \"41.7 F (5.4 C)\", \"weather\": \"Partly Cloudy\"}, \"type\": \"Feature\"}\n",
      "http://api.wunderground.com/api/452d60ad282f18c9/conditions/q/pws:KCAJOLON2.json\n",
      "{\"geometry\": {\"coordinates\": [35.994133, -121.130219], \"type\": \"Point\"}, \"properties\": {\"icon\": \"partlycloudy\", \"temperature_string\": \"40.8 F (4.9 C)\", \"weather\": \"Partly Cloudy\"}, \"type\": \"Feature\"}\n",
      "{\"geometry\": {\"coordinates\": [35.994133, -121.130219], \"type\": \"Point\"}, \"properties\": {\"icon\": \"partlycloudy\", \"temperature_string\": \"40.8 F (4.9 C)\", \"weather\": \"Partly Cloudy\"}, \"type\": \"Feature\"}\n",
      "http://api.wunderground.com/api/452d60ad282f18c9/conditions/q/pws:KCAPASOR40.json\n",
      "{\"geometry\": {\"coordinates\": [35.638363, -120.776062], \"type\": \"Point\"}, \"properties\": {\"icon\": \"partlycloudy\", \"temperature_string\": \"38.0 F (3.3 C)\", \"weather\": \"Partly Cloudy\"}, \"type\": \"Feature\"}\n",
      "{\"geometry\": {\"coordinates\": [35.638363, -120.776062], \"type\": \"Point\"}, \"properties\": {\"icon\": \"partlycloudy\", \"temperature_string\": \"38.0 F (3.3 C)\", \"weather\": \"Partly Cloudy\"}, \"type\": \"Feature\"}\n",
      "{\"features\": [{\"geometry\": {\"coordinates\": [35.638363, -120.776062], \"type\": \"Point\"}, \"properties\": {\"icon\": \"partlycloudy\", \"temperature_string\": \"38.0 F (3.3 C)\", \"weather\": \"Partly Cloudy\"}, \"type\": \"Feature\"}, {\"geometry\": {\"coordinates\": [35.638363, -120.776062], \"type\": \"Point\"}, \"properties\": {\"icon\": \"partlycloudy\", \"temperature_string\": \"38.0 F (3.3 C)\", \"weather\": \"Partly Cloudy\"}, \"type\": \"Feature\"}], \"type\": \"FeatureCollection\"}\n"
     ]
    },
    {
     "data": {
      "text/plain": [
       "{\"features\": [{\"geometry\": {\"coordinates\": [35.638363, -120.776062], \"type\": \"Point\"}, \"properties\": {\"icon\": \"partlycloudy\", \"temperature_string\": \"38.0 F (3.3 C)\", \"weather\": \"Partly Cloudy\"}, \"type\": \"Feature\"}, {\"geometry\": {\"coordinates\": [35.638363, -120.776062], \"type\": \"Point\"}, \"properties\": {\"icon\": \"partlycloudy\", \"temperature_string\": \"38.0 F (3.3 C)\", \"weather\": \"Partly Cloudy\"}, \"type\": \"Feature\"}], \"type\": \"FeatureCollection\"}"
      ]
     },
     "execution_count": 161,
     "metadata": {},
     "output_type": "execute_result"
    }
   ],
   "source": [
    "get_feature_collection(34.776,-122.395)"
   ]
  }
 ],
 "metadata": {
  "kernelspec": {
   "display_name": "Python 2",
   "language": "python",
   "name": "python2"
  },
  "language_info": {
   "codemirror_mode": {
    "name": "ipython",
    "version": 2
   },
   "file_extension": ".py",
   "mimetype": "text/x-python",
   "name": "python",
   "nbconvert_exporter": "python",
   "pygments_lexer": "ipython2",
   "version": "2.7.10"
  }
 },
 "nbformat": 4,
 "nbformat_minor": 0
}
