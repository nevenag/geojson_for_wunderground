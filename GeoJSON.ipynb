{
 "cells": [
  {
   "cell_type": "code",
   "execution_count": null,
   "metadata": {
    "collapsed": true
   },
   "outputs": [],
   "source": [
    "import urllib2\n",
    "import json\n",
    "import sys\n",
    "import time\n",
    "import math\n",
    "import datetime\n",
    "import pickle\n",
    "import geojson\n",
    "from geojson import Feature, Point, FeatureCollection"
   ]
  },
  {
   "cell_type": "code",
   "execution_count": null,
   "metadata": {
    "collapsed": true
   },
   "outputs": [],
   "source": [
    "cached_responses = {}"
   ]
  },
  {
   "cell_type": "code",
   "execution_count": null,
   "metadata": {
    "collapsed": true
   },
   "outputs": [],
   "source": [
    "def get_api_key():\n",
    "    return \"YOUR-API-KEY\""
   ]
  },
  {
   "cell_type": "code",
   "execution_count": null,
   "metadata": {
    "collapsed": false
   },
   "outputs": [],
   "source": [
    "def get_url_from_lat_lon(latitude, longitude):\n",
    "    url = 'http://api.wunderground.com/api/'+ get_api_key() + '/geolookup/q/' + str(latitude) + ',' + str(longitude) + '.json'\n",
    "    return url"
   ]
  },
  {
   "cell_type": "code",
   "execution_count": null,
   "metadata": {
    "collapsed": true
   },
   "outputs": [],
   "source": [
    "def get_neighbors(url):\n",
    "    \"\"\" get the list of nearby airport and pws weather stations \"\"\"\n",
    "    f = urllib2.urlopen(url)\n",
    "    json_string = f.read()\n",
    "    parsed_json = json.loads(json_string)\n",
    "    airports = parsed_json['location']['nearby_weather_stations']['airport']['station']\n",
    "    airports = map(lambda x: x['icao'], airports)\n",
    "    airports = filter(len, airports)\n",
    "    icaos = map(lambda x: (\"http://api.wunderground.com/api/\" + get_api_key() + \"/conditions/q/\" + x + \".json\"), airports)\n",
    "    pws = parsed_json['location']['nearby_weather_stations']['pws']['station']\n",
    "    ids = map(lambda x: (\"http://api.wunderground.com/api/\" + get_api_key() + \"/conditions/q/pws:\" + x['id'] + '.json'), pws)\n",
    "    stations = icaos + ids\n",
    "    return stations"
   ]
  },
  {
   "cell_type": "code",
   "execution_count": null,
   "metadata": {
    "collapsed": false
   },
   "outputs": [],
   "source": [
    "def get_feature(station_url):\n",
    "    time.sleep(20)\n",
    "    print station_url\n",
    "    f = urllib2.urlopen(station_url)\n",
    "    json_string = f.read()\n",
    "    parsed_json = json.loads(json_string)\n",
    "    lat = float(parsed_json['current_observation']['display_location']['latitude'] )\n",
    "    lon = float(parsed_json['current_observation']['display_location']['longitude'] )\n",
    "    zip = parsed_json['current_observation']['display_location']['zip']\n",
    "    weather = parsed_json['current_observation']['weather']\n",
    "    temperature_string = parsed_json['current_observation']['temperature_string']\n",
    "    icon = parsed_json['current_observation']['icon_url']\n",
    "    point = Point((lat, lon))\n",
    "    prop  = {'weather' : weather, 'temperature_string' : temperature_string, 'icon' : icon}\n",
    "    f = Feature(geometry=point, properties=prop)\n",
    "    cached_responses[station_url] = f\n",
    "    return f"
   ]
  },
  {
   "cell_type": "code",
   "execution_count": null,
   "metadata": {
    "collapsed": false
   },
   "outputs": [],
   "source": [
    "def get_feature_collection(lat, lon):\n",
    "    url = get_url_from_lat_lon(lat, lon)\n",
    "    print url\n",
    "    stations = get_neighbors(url)\n",
    "    print stations\n",
    "    features = []\n",
    "    for station_url in stations:\n",
    "        if station_url in cached_responses:\n",
    "            print \"cached response\"\n",
    "            f = cached_responses[station_url]\n",
    "        else:\n",
    "            print \"not cached response\"\n",
    "            f = get_feature(station_url)\n",
    "        features.append(f)\n",
    "    collection = FeatureCollection(features)\n",
    "    print collection\n",
    "    return collection"
   ]
  },
  {
   "cell_type": "code",
   "execution_count": null,
   "metadata": {
    "collapsed": false
   },
   "outputs": [],
   "source": [
    "get_feature_collection(34.776,-122.395)\n",
    "print cached_responses"
   ]
  },
  {
   "cell_type": "code",
   "execution_count": null,
   "metadata": {
    "collapsed": true
   },
   "outputs": [],
   "source": []
  }
 ],
 "metadata": {
  "kernelspec": {
   "display_name": "Python 2",
   "language": "python",
   "name": "python2"
  },
  "language_info": {
   "codemirror_mode": {
    "name": "ipython",
    "version": 2
   },
   "file_extension": ".py",
   "mimetype": "text/x-python",
   "name": "python",
   "nbconvert_exporter": "python",
   "pygments_lexer": "ipython2",
   "version": "2.7.10"
  }
 },
 "nbformat": 4,
 "nbformat_minor": 0
}
